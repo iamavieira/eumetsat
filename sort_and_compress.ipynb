{
 "cells": [
  {
   "cell_type": "markdown",
   "metadata": {},
   "source": [
    "This little script untars uncompressed native (`.nat`) satellite image files downloaded from EUMETSAT.\n",
    "\n",
    "Set `SRC_PATH` to be the directory holding all the `.tar` files downloaded from EUMETSAT.\n",
    "\n",
    "Set `DST_PATH` to be the destination path.  This script will store data in a directory structure of the form `<year>/<month>/<day>/<hour>/<minute/` e.g. `2019/01/10/20/55`.\n",
    "\n",
    "Set `TMP_PATH` to a place which will be used to temporarily store the un-tarred `.nat` files before they are compressed and sorted.  For speed, use an SSD or RAM disk (although a spinning disk is also fine!)\n",
    "\n",
    "## Requirements\n",
    "\n",
    "* Install [pbzip2](https://linux.die.net/man/1/pbzip2) (a parallel-processing version of bzip2).  On Ubuntu: `sudo apt install pbzip2`"
   ]
  },
  {
   "cell_type": "code",
   "execution_count": 2,
   "metadata": {},
   "outputs": [],
   "source": [
    "import tarfile\n",
    "import re\n",
    "import os\n",
    "import glob\n",
    "from datetime import datetime\n",
    "import subprocess"
   ]
  },
  {
   "cell_type": "code",
   "execution_count": 3,
   "metadata": {},
   "outputs": [],
   "source": [
    "PATH = '/storage/data/eumetsat/native/'\n",
    "\n",
    "# The directory containing the tar files downloaded from EUMETSAT\n",
    "SRC_PATH = os.path.join(PATH, 'testing')\n",
    "TMP_PATH = '/home/jack/temp'\n",
    "DST_PATH = os.path.join(PATH, 'sorted')\n",
    "DEL_PATH = os.path.join(PATH, 'delete_me')  # The path where we put files ready to be deleted\n",
    "\n",
    "# This is a list of the tar files which have already been processed.\n",
    "# This is useful so that this script can re-start for where it left off,\n",
    "# if needs be.\n",
    "LIST_OF_COMPLETED_FILES = os.path.join(PATH, 'compressed_files.txt')"
   ]
  },
  {
   "cell_type": "markdown",
   "metadata": {},
   "source": [
    "In the code below, we use the term `full_filename` to refer to a filename including the full path, e.g. `/storage/data/eumetsat/native/auto_downloads/1354458-1-1of8.tar`\n",
    "\n",
    "The `base_filename` is the filename _without_ the path, e.g. `1354458-1-1of8.tar`"
   ]
  },
  {
   "cell_type": "code",
   "execution_count": 4,
   "metadata": {},
   "outputs": [],
   "source": [
    "# Load list of completed files\n",
    "if os.path.exists(LIST_OF_COMPLETED_FILES):\n",
    "    with open(LIST_OF_COMPLETED_FILES, 'r') as fh:\n",
    "        full_tar_filenames_completed = fh.readlines()\n",
    "    full_tar_filenames_completed = [fname.strip() for fname in full_tar_filenames_completed]\n",
    "else:\n",
    "    full_tar_filenames_completed = []\n",
    "    \n",
    "full_tar_filenames_completed.sort()"
   ]
  },
  {
   "cell_type": "code",
   "execution_count": 5,
   "metadata": {},
   "outputs": [
    {
     "data": {
      "text/plain": [
       "['/storage/data/eumetsat/native/auto_downloads/1354458-1-1of8.tar',\n",
       " '/storage/data/eumetsat/native/auto_downloads/1354458-1-2of8.tar',\n",
       " '/storage/data/eumetsat/native/auto_downloads/1354458-1-3of8.tar',\n",
       " '/storage/data/eumetsat/native/auto_downloads/1354458-1-4of8.tar',\n",
       " '/storage/data/eumetsat/native/auto_downloads/1354458-1-5of8.tar']"
      ]
     },
     "execution_count": 5,
     "metadata": {},
     "output_type": "execute_result"
    }
   ],
   "source": [
    "full_tar_filenames_completed[:5]"
   ]
  },
  {
   "cell_type": "code",
   "execution_count": 6,
   "metadata": {},
   "outputs": [
    {
     "data": {
      "text/plain": [
       "102"
      ]
     },
     "execution_count": 6,
     "metadata": {},
     "output_type": "execute_result"
    }
   ],
   "source": [
    "full_tar_filenames = glob.glob(os.path.join(SRC_PATH, '*.tar'))\n",
    "full_tar_filenames.sort()\n",
    "\n",
    "len(full_tar_filenames)"
   ]
  },
  {
   "cell_type": "code",
   "execution_count": 7,
   "metadata": {},
   "outputs": [
    {
     "data": {
      "text/plain": [
       "['/storage/data/eumetsat/native/testing/1354464-1-1of8.tar',\n",
       " '/storage/data/eumetsat/native/testing/1354464-1-2of8.tar',\n",
       " '/storage/data/eumetsat/native/testing/1354464-1-3of8.tar',\n",
       " '/storage/data/eumetsat/native/testing/1354464-1-4of8.tar',\n",
       " '/storage/data/eumetsat/native/testing/1354464-1-5of8.tar']"
      ]
     },
     "execution_count": 7,
     "metadata": {},
     "output_type": "execute_result"
    }
   ],
   "source": [
    "full_tar_filenames[:5]"
   ]
  },
  {
   "cell_type": "code",
   "execution_count": 8,
   "metadata": {},
   "outputs": [
    {
     "data": {
      "text/plain": [
       "91"
      ]
     },
     "execution_count": 8,
     "metadata": {},
     "output_type": "execute_result"
    }
   ],
   "source": [
    "# Remove files which have previously been completed\n",
    "completed_base_filenames = [os.path.basename(filename) for filename in full_tar_filenames_completed]\n",
    "full_tar_filenames_filtered = [\n",
    "    full_tar_filename for full_tar_filename in full_tar_filenames \n",
    "    if os.path.basename(full_tar_filename) not in completed_base_filenames]\n",
    "full_tar_filenames_filtered.sort()\n",
    "n = len(full_tar_filenames_filtered)\n",
    "n"
   ]
  },
  {
   "cell_type": "code",
   "execution_count": 9,
   "metadata": {},
   "outputs": [
    {
     "name": "stdout",
     "output_type": "stream",
     "text": [
      "1 of 91 = 1%  :  /storage/data/eumetsat/native/testing/1355708-1-1of8.tar\n",
      "Found 29 native files\n",
      " /home/jack/temp/1355708-1-1of8/MSG3-SEVI-MSG15-0100-NA-20190131043417.603000000Z-20190131043435-1355708-1.nat"
     ]
    },
    {
     "ename": "OSError",
     "evalue": "[Errno 18] Invalid cross-device link: '/home/jack/temp/1355708-1-1of8/MSG3-SEVI-MSG15-0100-NA-20190131043417.603000000Z-20190131043435-1355708-1.nat.bz2' -> '/storage/data/eumetsat/native/sorted/2019/01/31/04/34/MSG3-SEVI-MSG15-0100-NA-20190131043417.603000000Z-20190131043435-1355708-1.nat.bz2'",
     "output_type": "error",
     "traceback": [
      "\u001b[0;31m---------------------------------------------------------------------------\u001b[0m",
      "\u001b[0;31mOSError\u001b[0m                                   Traceback (most recent call last)",
      "\u001b[0;32m<ipython-input-9-da594009e642>\u001b[0m in \u001b[0;36m<module>\u001b[0;34m\u001b[0m\n\u001b[1;32m     35\u001b[0m         os.rename(\n\u001b[1;32m     36\u001b[0m             \u001b[0msrc\u001b[0m\u001b[0;34m=\u001b[0m\u001b[0mfull_native_filename\u001b[0m \u001b[0;34m+\u001b[0m \u001b[0;34m'.bz2'\u001b[0m\u001b[0;34m,\u001b[0m\u001b[0;34m\u001b[0m\u001b[0;34m\u001b[0m\u001b[0m\n\u001b[0;32m---> 37\u001b[0;31m             dst=os.path.join(new_dst_path, base_native_filename + '.bz2'))\n\u001b[0m\u001b[1;32m     38\u001b[0m \u001b[0;34m\u001b[0m\u001b[0m\n\u001b[1;32m     39\u001b[0m     \u001b[0;32mwith\u001b[0m \u001b[0mopen\u001b[0m\u001b[0;34m(\u001b[0m\u001b[0mLIST_OF_COMPLETED_FILES\u001b[0m\u001b[0;34m,\u001b[0m \u001b[0;34m'a'\u001b[0m\u001b[0;34m)\u001b[0m \u001b[0;32mas\u001b[0m \u001b[0mfh\u001b[0m\u001b[0;34m:\u001b[0m\u001b[0;34m\u001b[0m\u001b[0;34m\u001b[0m\u001b[0m\n",
      "\u001b[0;31mOSError\u001b[0m: [Errno 18] Invalid cross-device link: '/home/jack/temp/1355708-1-1of8/MSG3-SEVI-MSG15-0100-NA-20190131043417.603000000Z-20190131043435-1355708-1.nat.bz2' -> '/storage/data/eumetsat/native/sorted/2019/01/31/04/34/MSG3-SEVI-MSG15-0100-NA-20190131043417.603000000Z-20190131043435-1355708-1.nat.bz2'"
     ]
    }
   ],
   "source": [
    "def get_datetime(inner_tar_name):\n",
    "    p = re.compile('^MSG[23]-SEVI-MSG15-0100-NA-(\\d*)\\.')\n",
    "    title_match = p.match(inner_tar_name)\n",
    "    date_str = title_match.group(1)\n",
    "    return datetime.strptime(date_str, \"%Y%m%d%H%M%S\")\n",
    "\n",
    "\n",
    "for i, full_tar_filename in enumerate(full_tar_filenames_filtered):\n",
    "    print(i+1, 'of', n, '= {:.0%}'.format((i+1)/n), ' : ', full_tar_filename)\n",
    "    base_tar_filename = os.path.basename(full_tar_filename)\n",
    "    \n",
    "    # Extract tar file to TMP_PATH/base_filename/\n",
    "    new_tmp_path = os.path.join(TMP_PATH, os.path.splitext(base_tar_filename)[0])\n",
    "    if not os.path.exists(new_tmp_path):\n",
    "        os.makedirs(new_tmp_path)\n",
    "    with tarfile.open(full_tar_filename) as tar:\n",
    "        # `extractall` will throw a `ReadError: unexpected end of data` if the \n",
    "        # tar file is incomplete.\n",
    "        tar.extractall(new_tmp_path)\n",
    "        \n",
    "    # Now compress & move each native file\n",
    "    native_filenames = glob.glob(os.path.join(new_tmp_path, '*.nat'))\n",
    "    print('Found', len(native_filenames), 'native files')\n",
    "    # TODO: Check filesize of the native files?\n",
    "    for full_native_filename in native_filenames:\n",
    "        print('\\r', full_native_filename, end='', flush=True)\n",
    "        # TODO: Capture output of subprocess\n",
    "        completed_process = subprocess.run(['pbzip2', '-5', full_native_filename])\n",
    "        completed_process.check_returncode()\n",
    "        base_native_filename = os.path.basename(full_native_filename)\n",
    "        dt = get_datetime(base_native_filename)\n",
    "        new_dst_path = os.path.join(DST_PATH, dt.strftime(\"%Y/%m/%d/%H/%M\"))\n",
    "        if not os.path.exists(new_dst_path):\n",
    "            os.makedirs(new_dst_path)\n",
    "        os.rename(\n",
    "            src=full_native_filename + '.bz2', \n",
    "            dst=os.path.join(new_dst_path, base_native_filename + '.bz2'))\n",
    "        \n",
    "    with open(LIST_OF_COMPLETED_FILES, 'a') as fh:\n",
    "        fh.write('{}\\n'.format(full_tar_filename))\n",
    "    print()"
   ]
  },
  {
   "cell_type": "code",
   "execution_count": null,
   "metadata": {},
   "outputs": [],
   "source": []
  }
 ],
 "metadata": {
  "kernelspec": {
   "display_name": "Python 3",
   "language": "python",
   "name": "python3"
  },
  "language_info": {
   "codemirror_mode": {
    "name": "ipython",
    "version": 3
   },
   "file_extension": ".py",
   "mimetype": "text/x-python",
   "name": "python",
   "nbconvert_exporter": "python",
   "pygments_lexer": "ipython3",
   "version": "3.7.3"
  }
 },
 "nbformat": 4,
 "nbformat_minor": 4
}
